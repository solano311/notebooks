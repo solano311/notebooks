{
 "cells": [
  {
   "cell_type": "markdown",
   "id": "b755b97e-b21d-44fc-b3a5-0e2d11ca0666",
   "metadata": {},
   "source": [
    "# Pandas\n",
    "## Criação de DataFrames"
   ]
  },
  {
   "cell_type": "markdown",
   "id": "1908a09a-e366-452e-a81b-778941e30344",
   "metadata": {},
   "source": [
    "Podemos criar um DataFrame a partir de um dicionário, onde a chave é o nome da coluna e o valor é uma lista com a série de valores para aquela coluna. Esse é o método mais utilizado."
   ]
  },
  {
   "cell_type": "code",
   "execution_count": 19,
   "id": "37d5b2d6-dfcd-442c-a21f-ea28bd896a54",
   "metadata": {},
   "outputs": [
    {
     "data": {
      "text/html": [
       "<div>\n",
       "<style scoped>\n",
       "    .dataframe tbody tr th:only-of-type {\n",
       "        vertical-align: middle;\n",
       "    }\n",
       "\n",
       "    .dataframe tbody tr th {\n",
       "        vertical-align: top;\n",
       "    }\n",
       "\n",
       "    .dataframe thead th {\n",
       "        text-align: right;\n",
       "    }\n",
       "</style>\n",
       "<table border=\"1\" class=\"dataframe\">\n",
       "  <thead>\n",
       "    <tr style=\"text-align: right;\">\n",
       "      <th></th>\n",
       "      <th>nome_coluna</th>\n",
       "      <th>nome</th>\n",
       "      <th>sobrenome</th>\n",
       "    </tr>\n",
       "  </thead>\n",
       "  <tbody>\n",
       "    <tr>\n",
       "      <th>0</th>\n",
       "      <td>valor 1</td>\n",
       "      <td>Tiago</td>\n",
       "      <td>Rocha</td>\n",
       "    </tr>\n",
       "    <tr>\n",
       "      <th>1</th>\n",
       "      <td>valor 2</td>\n",
       "      <td>Mário</td>\n",
       "      <td>Silva</td>\n",
       "    </tr>\n",
       "    <tr>\n",
       "      <th>2</th>\n",
       "      <td>valor 3</td>\n",
       "      <td>Júlia</td>\n",
       "      <td>Lopes</td>\n",
       "    </tr>\n",
       "  </tbody>\n",
       "</table>\n",
       "</div>"
      ],
      "text/plain": [
       "  nome_coluna   nome sobrenome\n",
       "0     valor 1  Tiago     Rocha\n",
       "1     valor 2  Mário     Silva\n",
       "2     valor 3  Júlia     Lopes"
      ]
     },
     "execution_count": 19,
     "metadata": {},
     "output_type": "execute_result"
    }
   ],
   "source": [
    "import pandas as pd\n",
    "df_dict = pd.DataFrame({'nome_coluna': ['valor 1', 'valor 2', 'valor 3'],\n",
    "                        'nome': ['Tiago', 'Mário', 'Júlia'],\n",
    "                        'sobrenome': ['Rocha', 'Silva', 'Lopes']})\n",
    "df_dict"
   ]
  },
  {
   "cell_type": "markdown",
   "id": "656c2b78-a2d6-467f-aa59-ba820e986848",
   "metadata": {},
   "source": [
    "Uma outra forma de criar um DataFrame é a partir de uma lista, onde cada elemento da lista é uma outra lista com a série de valores para a coluna. Nesse método as colunas ficam sem nomes, portanto é uma boa prática utilizar o parâmetro `columns` para atribuir nomes às colunas. Observe que o resultado final é o mesmo."
   ]
  },
  {
   "cell_type": "code",
   "execution_count": 20,
   "id": "64b36927-fe79-4109-b51c-914647ba7727",
   "metadata": {},
   "outputs": [
    {
     "data": {
      "text/html": [
       "<div>\n",
       "<style scoped>\n",
       "    .dataframe tbody tr th:only-of-type {\n",
       "        vertical-align: middle;\n",
       "    }\n",
       "\n",
       "    .dataframe tbody tr th {\n",
       "        vertical-align: top;\n",
       "    }\n",
       "\n",
       "    .dataframe thead th {\n",
       "        text-align: right;\n",
       "    }\n",
       "</style>\n",
       "<table border=\"1\" class=\"dataframe\">\n",
       "  <thead>\n",
       "    <tr style=\"text-align: right;\">\n",
       "      <th></th>\n",
       "      <th>nome_coluna</th>\n",
       "      <th>nome</th>\n",
       "      <th>sobrenome</th>\n",
       "    </tr>\n",
       "  </thead>\n",
       "  <tbody>\n",
       "    <tr>\n",
       "      <th>0</th>\n",
       "      <td>valor 1</td>\n",
       "      <td>valor 2</td>\n",
       "      <td>valor 3</td>\n",
       "    </tr>\n",
       "    <tr>\n",
       "      <th>1</th>\n",
       "      <td>Tiago</td>\n",
       "      <td>Mário</td>\n",
       "      <td>Júlia</td>\n",
       "    </tr>\n",
       "    <tr>\n",
       "      <th>2</th>\n",
       "      <td>Rocha</td>\n",
       "      <td>Silva</td>\n",
       "      <td>Lopes</td>\n",
       "    </tr>\n",
       "  </tbody>\n",
       "</table>\n",
       "</div>"
      ],
      "text/plain": [
       "  nome_coluna     nome sobrenome\n",
       "0     valor 1  valor 2   valor 3\n",
       "1       Tiago    Mário     Júlia\n",
       "2       Rocha    Silva     Lopes"
      ]
     },
     "execution_count": 20,
     "metadata": {},
     "output_type": "execute_result"
    }
   ],
   "source": [
    "df_lista = pd.DataFrame([['valor 1', 'valor 2', 'valor 3'],\n",
    "                         ['Tiago', 'Mário', 'Júlia'],\n",
    "                         ['Rocha', 'Silva', 'Lopes']],\n",
    "                        columns = ['nome_coluna', 'nome', 'sobrenome'])\n",
    "df_lista"
   ]
  },
  {
   "cell_type": "markdown",
   "id": "de8e4bf4-e4c5-4d5c-8713-b888117218e4",
   "metadata": {},
   "source": [
    "## Importando dados\n",
    "\n",
    "Alternativamente, podemos criar um DataFrame a partir de dados armazenados em um arquivo CSV (_comma separated values_) ou planilha do Microsoft Excel."
   ]
  },
  {
   "cell_type": "code",
   "execution_count": 21,
   "id": "1568a642-452f-4a9d-b1ee-7aeb70f396ae",
   "metadata": {},
   "outputs": [
    {
     "data": {
      "text/html": [
       "<div>\n",
       "<style scoped>\n",
       "    .dataframe tbody tr th:only-of-type {\n",
       "        vertical-align: middle;\n",
       "    }\n",
       "\n",
       "    .dataframe tbody tr th {\n",
       "        vertical-align: top;\n",
       "    }\n",
       "\n",
       "    .dataframe thead th {\n",
       "        text-align: right;\n",
       "    }\n",
       "</style>\n",
       "<table border=\"1\" class=\"dataframe\">\n",
       "  <thead>\n",
       "    <tr style=\"text-align: right;\">\n",
       "      <th></th>\n",
       "      <th>Date</th>\n",
       "      <th>Open</th>\n",
       "      <th>High</th>\n",
       "      <th>Low</th>\n",
       "      <th>Close</th>\n",
       "      <th>Adj Close</th>\n",
       "      <th>Volume</th>\n",
       "    </tr>\n",
       "  </thead>\n",
       "  <tbody>\n",
       "    <tr>\n",
       "      <th>0</th>\n",
       "      <td>2023-08-03</td>\n",
       "      <td>120859.0</td>\n",
       "      <td>122619.0</td>\n",
       "      <td>120365.0</td>\n",
       "      <td>120586.0</td>\n",
       "      <td>120586.0</td>\n",
       "      <td>13027300</td>\n",
       "    </tr>\n",
       "    <tr>\n",
       "      <th>1</th>\n",
       "      <td>2023-08-04</td>\n",
       "      <td>120586.0</td>\n",
       "      <td>121442.0</td>\n",
       "      <td>119215.0</td>\n",
       "      <td>119508.0</td>\n",
       "      <td>119508.0</td>\n",
       "      <td>15065200</td>\n",
       "    </tr>\n",
       "    <tr>\n",
       "      <th>2</th>\n",
       "      <td>2023-08-07</td>\n",
       "      <td>119509.0</td>\n",
       "      <td>120104.0</td>\n",
       "      <td>118894.0</td>\n",
       "      <td>119380.0</td>\n",
       "      <td>119380.0</td>\n",
       "      <td>8726500</td>\n",
       "    </tr>\n",
       "    <tr>\n",
       "      <th>3</th>\n",
       "      <td>2023-08-08</td>\n",
       "      <td>119378.0</td>\n",
       "      <td>119553.0</td>\n",
       "      <td>117492.0</td>\n",
       "      <td>119090.0</td>\n",
       "      <td>119090.0</td>\n",
       "      <td>10246000</td>\n",
       "    </tr>\n",
       "    <tr>\n",
       "      <th>4</th>\n",
       "      <td>2023-08-09</td>\n",
       "      <td>119090.0</td>\n",
       "      <td>119090.0</td>\n",
       "      <td>117901.0</td>\n",
       "      <td>118409.0</td>\n",
       "      <td>118409.0</td>\n",
       "      <td>11245600</td>\n",
       "    </tr>\n",
       "  </tbody>\n",
       "</table>\n",
       "</div>"
      ],
      "text/plain": [
       "         Date      Open      High       Low     Close  Adj Close    Volume\n",
       "0  2023-08-03  120859.0  122619.0  120365.0  120586.0   120586.0  13027300\n",
       "1  2023-08-04  120586.0  121442.0  119215.0  119508.0   119508.0  15065200\n",
       "2  2023-08-07  119509.0  120104.0  118894.0  119380.0   119380.0   8726500\n",
       "3  2023-08-08  119378.0  119553.0  117492.0  119090.0   119090.0  10246000\n",
       "4  2023-08-09  119090.0  119090.0  117901.0  118409.0   118409.0  11245600"
      ]
     },
     "execution_count": 21,
     "metadata": {},
     "output_type": "execute_result"
    }
   ],
   "source": [
    "import pandas as pd\n",
    "dados_ibov = pd.read_csv('^BVSP.csv')\n",
    "dados_ibov.head() # o método head mostra apenas os 5 primeiros índices"
   ]
  },
  {
   "cell_type": "markdown",
   "id": "3ed54a42-9515-4026-83d3-8b84b031678c",
   "metadata": {},
   "source": [
    "Para arquivos do Excel, utilizamos a função `read_excel()`, que também serve para arquivos ODF do LibreOffice (alternativa gratuita ao Excel).\n",
    "\n",
    "<div class=\"alert alert-block alert-info\">\n",
    "<b>OBS:</b> O arquivo a ser importado deve estar na mesma pasta do programa.\n",
    "</div>"
   ]
  },
  {
   "cell_type": "markdown",
   "id": "5d3a468b",
   "metadata": {},
   "source": [
    "## Exercício 1\n",
    "\n",
    "Criar um dataframe no qual:\n",
    "- O índice (x) é uma série linear de 0.0 a $2 \\pi$ com 100 elementos\n",
    "- a primeira coluna tem o valor $y=2 \\sin^2(x)$\n",
    "- a segunda coluna tem o valor $z=2 \\cos^2(x)$"
   ]
  },
  {
   "cell_type": "code",
   "execution_count": 22,
   "id": "e0964eb3",
   "metadata": {},
   "outputs": [
    {
     "data": {
      "text/html": [
       "<div>\n",
       "<style scoped>\n",
       "    .dataframe tbody tr th:only-of-type {\n",
       "        vertical-align: middle;\n",
       "    }\n",
       "\n",
       "    .dataframe tbody tr th {\n",
       "        vertical-align: top;\n",
       "    }\n",
       "\n",
       "    .dataframe thead th {\n",
       "        text-align: right;\n",
       "    }\n",
       "</style>\n",
       "<table border=\"1\" class=\"dataframe\">\n",
       "  <thead>\n",
       "    <tr style=\"text-align: right;\">\n",
       "      <th></th>\n",
       "      <th>x</th>\n",
       "      <th>y</th>\n",
       "      <th>z</th>\n",
       "    </tr>\n",
       "  </thead>\n",
       "  <tbody>\n",
       "    <tr>\n",
       "      <th>0</th>\n",
       "      <td>0.000000</td>\n",
       "      <td>0.000000</td>\n",
       "      <td>2.000000</td>\n",
       "    </tr>\n",
       "    <tr>\n",
       "      <th>1</th>\n",
       "      <td>0.063467</td>\n",
       "      <td>0.008045</td>\n",
       "      <td>1.991955</td>\n",
       "    </tr>\n",
       "    <tr>\n",
       "      <th>2</th>\n",
       "      <td>0.126933</td>\n",
       "      <td>0.032051</td>\n",
       "      <td>1.967949</td>\n",
       "    </tr>\n",
       "    <tr>\n",
       "      <th>3</th>\n",
       "      <td>0.190400</td>\n",
       "      <td>0.071632</td>\n",
       "      <td>1.928368</td>\n",
       "    </tr>\n",
       "    <tr>\n",
       "      <th>4</th>\n",
       "      <td>0.253866</td>\n",
       "      <td>0.126151</td>\n",
       "      <td>1.873849</td>\n",
       "    </tr>\n",
       "  </tbody>\n",
       "</table>\n",
       "</div>"
      ],
      "text/plain": [
       "          x         y         z\n",
       "0  0.000000  0.000000  2.000000\n",
       "1  0.063467  0.008045  1.991955\n",
       "2  0.126933  0.032051  1.967949\n",
       "3  0.190400  0.071632  1.928368\n",
       "4  0.253866  0.126151  1.873849"
      ]
     },
     "execution_count": 22,
     "metadata": {},
     "output_type": "execute_result"
    }
   ],
   "source": [
    "import numpy as np\n",
    "\n",
    "x = np.linspace(0, 2*np.pi, 100)\n",
    "y = 2 * np.sin(x) ** 2\n",
    "z = 2 * np.cos(x) ** 2\n",
    "\n",
    "df = pd.DataFrame({ 'x': x,\n",
    "                    'y': y,\n",
    "                    'z': z})\n",
    "df.head()"
   ]
  },
  {
   "cell_type": "code",
   "execution_count": 23,
   "id": "186b2ff1",
   "metadata": {},
   "outputs": [
    {
     "data": {
      "text/plain": [
       "<Axes: title={'center': 'Exercício 1'}, xlabel='x'>"
      ]
     },
     "execution_count": 23,
     "metadata": {},
     "output_type": "execute_result"
    },
    {
     "data": {
      "image/png": "[encoded data removed]",
      "text/plain": [
       "<Figure size 640x480 with 1 Axes>"
      ]
     },
     "metadata": {},
     "output_type": "display_data"
    }
   ],
   "source": [
    "df.plot.line(x='x', y=['y', 'z'], color=['b', 'r'], title='Exercício 1')"
   ]
  },
  {
   "cell_type": "code",
   "execution_count": null,
   "id": "afe91765",
   "metadata": {},
   "outputs": [],
   "source": []
  }
 ],
 "metadata": {
  "kernelspec": {
   "display_name": "Python 3 (ipykernel)",
   "language": "python",
   "name": "python3"
  },
  "language_info": {
   "codemirror_mode": {
    "name": "ipython",
    "version": 3
   },
   "file_extension": ".py",
   "mimetype": "text/x-python",
   "name": "python",
   "nbconvert_exporter": "python",
   "pygments_lexer": "ipython3",
   "version": "3.12.2"
  }
 },
 "nbformat": 4,
 "nbformat_minor": 5
}
